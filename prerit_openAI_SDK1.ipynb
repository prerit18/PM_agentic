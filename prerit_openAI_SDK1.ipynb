{
 "cells": [
  {
   "cell_type": "markdown",
   "metadata": {},
   "source": [
    "## Week 2 Day 1\n",
    "\n",
    "And now! Our first look at OpenAI Agents SDK\n",
    "\n",
    "You won't believe how lightweight this is.."
   ]
  },
  {
   "cell_type": "markdown",
   "metadata": {},
   "source": [
    "<table style=\"margin: 0; text-align: left; width:100%\">\n",
    "    <tr>\n",
    "        <td style=\"width: 150px; height: 150px; vertical-align: middle;\">\n",
    "            <img src=\"../assets/tools.png\" width=\"150\" height=\"150\" style=\"display: block;\" />\n",
    "        </td>\n",
    "        <td>\n",
    "            <h2 style=\"color:#00bfff;\">The OpenAI Agents SDK Docs</h2>\n",
    "            <span style=\"color:#00bfff;\">The documentation on OpenAI Agents SDK is really clear and simple: <a href=\"https://openai.github.io/openai-agents-python/\">https://openai.github.io/openai-agents-python/</a> and it's well worth a look.\n",
    "            </span>\n",
    "        </td>\n",
    "    </tr>\n",
    "</table>"
   ]
  },
  {
   "cell_type": "code",
   "execution_count": 1,
   "metadata": {},
   "outputs": [],
   "source": [
    "# The imports\n",
    "\n",
    "from dotenv import load_dotenv\n",
    "from agents import Agent, Runner, trace\n",
    "\n"
   ]
  },
  {
   "cell_type": "code",
   "execution_count": 2,
   "metadata": {},
   "outputs": [
    {
     "data": {
      "text/plain": [
       "True"
      ]
     },
     "execution_count": 2,
     "metadata": {},
     "output_type": "execute_result"
    }
   ],
   "source": [
    "# The usual starting point\n",
    "\n",
    "load_dotenv(override=True)\n"
   ]
  },
  {
   "cell_type": "code",
   "execution_count": 14,
   "metadata": {},
   "outputs": [],
   "source": [
    "\n",
    "# Make an agent with name, instructions, model\n",
    "system_prompt = \"You are an expert in CURSOR IDE and GITHUB and provide concise and crisp but complete information about them, also enable users with right information break it down in clear steps like Step 1, Step 2, etc. If you dont have the information then please say I dont have that relevant information.\"\n",
    "\n",
    "agent = Agent(name=\"Jokester\", instructions=system_prompt, model=\"gpt-4o-mini\")"
   ]
  },
  {
   "cell_type": "code",
   "execution_count": 5,
   "metadata": {},
   "outputs": [
    {
     "data": {
      "text/plain": [
       "Agent(name='Jokester', instructions='You are a joke teller', prompt=None, handoff_description=None, handoffs=[], model='gpt-4o-mini', model_settings=ModelSettings(temperature=None, top_p=None, frequency_penalty=None, presence_penalty=None, tool_choice=None, parallel_tool_calls=None, truncation=None, max_tokens=None, reasoning=None, metadata=None, store=None, include_usage=None, extra_query=None, extra_body=None, extra_headers=None, extra_args=None), tools=[], mcp_servers=[], mcp_config={}, input_guardrails=[], output_guardrails=[], output_type=None, hooks=None, tool_use_behavior='run_llm_again', reset_tool_choice=True)"
      ]
     },
     "execution_count": 5,
     "metadata": {},
     "output_type": "execute_result"
    }
   ],
   "source": [
    "agent"
   ]
  },
  {
   "cell_type": "code",
   "execution_count": 12,
   "metadata": {},
   "outputs": [
    {
     "name": "stdout",
     "output_type": "stream",
     "text": [
      "<coroutine object Runner.run at 0x116336770>\n"
     ]
    }
   ],
   "source": [
    "with trace(\"Cursor IDE and Github\"):\n",
    "    result = Runner.run(agent, \"Tell me how can I push my code from cursor IDE to Github\")\n",
    "    print(result)\n",
    "## Now go and look at the trace"
   ]
  },
  {
   "cell_type": "code",
   "execution_count": 15,
   "metadata": {},
   "outputs": [
    {
     "name": "stdout",
     "output_type": "stream",
     "text": [
      "To push your code from Cursor IDE to GitHub, you need to create a GitHub repository and generate access keys (a personal access token) for authentication. Here’s how to do it step by step:\n",
      "\n",
      "### Step 1: Create a GitHub Repository\n",
      "1. **Log in to GitHub** (https://github.com/).\n",
      "2. Click on the **\"+\"** icon in the top right corner and select **\"New repository\"**.\n",
      "3. Enter a **repository name** and description (optional).\n",
      "4. Choose the **visibility** (Public or Private).\n",
      "5. Click **\"Create repository\"**.\n",
      "\n",
      "### Step 2: Generate Personal Access Token\n",
      "1. Click on your profile icon and go to **\"Settings\"**.\n",
      "2. In the left sidebar, click on **\"Developer settings\"**.\n",
      "3. Select **\"Personal access tokens\"** and then **\"Tokens (classic)\"**.\n",
      "4. Click on **\"Generate new token\"**.\n",
      "5. Give your token a **name**, set an **expiration**, and select the **scopes** you need (at least check `repo`).\n",
      "6. Click **\"Generate token\"**. **Copy the token** (you won't see it again).\n",
      "\n",
      "### Step 3: Configure Git in Cursor IDE\n",
      "1. Open **Cursor IDE**.\n",
      "2. Open a terminal within Cursor IDE.\n",
      "3. Set your global Git configuration:\n",
      "   ```bash\n",
      "   git config --global user.name \"Your Name\"\n",
      "   git config --global user.email \"your_email@example.com\"\n",
      "   ```\n",
      "\n",
      "### Step 4: Initialize and Commit Your Code\n",
      "1. Navigate to the directory of your project:\n",
      "   ```bash\n",
      "   cd path/to/your/project\n",
      "   ```\n",
      "2. Initialize a Git repository if not already done:\n",
      "   ```bash\n",
      "   git init\n",
      "   ```\n",
      "3. Add all your files to the staging area:\n",
      "   ```bash\n",
      "   git add .\n",
      "   ```\n",
      "4. Commit your changes:\n",
      "   ```bash\n",
      "   git commit -m \"Initial commit\"\n",
      "   ```\n",
      "\n",
      "### Step 5: Add Remote Repository\n",
      "1. Link your local repository to your GitHub repository:\n",
      "   ```bash\n",
      "   git remote add origin https://github.com/your-username/your-repo-name.git\n",
      "   ```\n",
      "\n",
      "### Step 6: Push Your Code to GitHub\n",
      "1. Push your code to GitHub using the personal access token as your password when prompted:\n",
      "   ```bash\n",
      "   git push -u origin main\n",
      "   ```\n",
      "\n",
      "If your default branch is not `main`, replace `main` with `master` or whatever your default branch is.\n",
      "\n",
      "### Step 7: Confirm Code is Pushed\n",
      "1. Go back to your GitHub repository page and refresh to see if your code has been uploaded successfully.\n",
      "\n",
      "Now, you've successfully pushed your code from Cursor IDE to GitHub! If you have any more questions or need further assistance, feel free to ask.\n"
     ]
    }
   ],
   "source": [
    "with trace(\"Cursor IDE and Github\"):\n",
    "    result = await Runner.run(agent, \"Tell me how can I push my code from cursor IDE to Github and create the github access keys\")\n",
    "    print(result.final_output)"
   ]
  },
  {
   "cell_type": "code",
   "execution_count": 10,
   "metadata": {},
   "outputs": [
    {
     "name": "stdout",
     "output_type": "stream",
     "text": [
      "Why did the Autonomous AI Agent bring a ladder to work?\n",
      "\n",
      "Because it wanted to reach new heights in automation!\n"
     ]
    }
   ],
   "source": [
    "# Run the joke with Runner.run(agent, prompt) then print final_output\n",
    "\n",
    "with trace(\"Telling a joke\"):\n",
    "    result = await Runner.run(agent, \"Tell a joke about Autonomous AI Agents\")\n",
    "    print(result.final_output)"
   ]
  },
  {
   "cell_type": "markdown",
   "metadata": {},
   "source": [
    "## Now go and look at the trace\n",
    "\n",
    "https://platform.openai.com/traces"
   ]
  }
 ],
 "metadata": {
  "kernelspec": {
   "display_name": ".venv",
   "language": "python",
   "name": "python3"
  },
  "language_info": {
   "codemirror_mode": {
    "name": "ipython",
    "version": 3
   },
   "file_extension": ".py",
   "mimetype": "text/x-python",
   "name": "python",
   "nbconvert_exporter": "python",
   "pygments_lexer": "ipython3",
   "version": "3.12.7"
  }
 },
 "nbformat": 4,
 "nbformat_minor": 2
}
